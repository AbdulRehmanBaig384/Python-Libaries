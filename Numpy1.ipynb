{
 "cells": [
  {
   "cell_type": "code",
   "execution_count": 1,
   "id": "9ec11482-a4a0-41ac-ae52-9c9c4aea9d27",
   "metadata": {},
   "outputs": [],
   "source": [
    "import numpy as np"
   ]
  },
  {
   "cell_type": "code",
   "execution_count": 2,
   "id": "e5aed7e5-82b6-401b-aa5c-5e3baf9dde7f",
   "metadata": {},
   "outputs": [
    {
     "name": "stdout",
     "output_type": "stream",
     "text": [
      "[1, 3, 5, 7, 2, 4, 6, 8]\n"
     ]
    }
   ],
   "source": [
    "list=[1,3,5,7]\n",
    "list1=[2,4,6,8]\n",
    "print(list+list1)"
   ]
  },
  {
   "cell_type": "code",
   "execution_count": 7,
   "id": "5747585c-5e33-4699-a4ea-1d56b52290ca",
   "metadata": {
    "scrolled": true
   },
   "outputs": [
    {
     "ename": "UFuncTypeError",
     "evalue": "ufunc 'add' did not contain a loop with signature matching types (dtype('<U11'), dtype('<U11')) -> None",
     "output_type": "error",
     "traceback": [
      "\u001b[1;31m---------------------------------------------------------------------------\u001b[0m",
      "\u001b[1;31mUFuncTypeError\u001b[0m                            Traceback (most recent call last)",
      "Cell \u001b[1;32mIn[7], line 4\u001b[0m\n\u001b[0;32m      2\u001b[0m a\u001b[38;5;241m=\u001b[39mnp\u001b[38;5;241m.\u001b[39marray([\u001b[38;5;241m1\u001b[39m,\u001b[38;5;241m2\u001b[39m,\u001b[38;5;241m3\u001b[39m,\u001b[38;5;241m4\u001b[39m,\u001b[38;5;124m\"\u001b[39m\u001b[38;5;124mali\u001b[39m\u001b[38;5;124m\"\u001b[39m])\n\u001b[0;32m      3\u001b[0m b\u001b[38;5;241m=\u001b[39mnp\u001b[38;5;241m.\u001b[39marray([\u001b[38;5;241m1\u001b[39m,\u001b[38;5;241m2\u001b[39m,\u001b[38;5;241m3\u001b[39m,\u001b[38;5;241m4\u001b[39m,\u001b[38;5;124m\"\u001b[39m\u001b[38;5;124mali\u001b[39m\u001b[38;5;124m\"\u001b[39m])\n\u001b[1;32m----> 4\u001b[0m \u001b[38;5;28mprint\u001b[39m(a\u001b[38;5;241m+\u001b[39mb)\n",
      "\u001b[1;31mUFuncTypeError\u001b[0m: ufunc 'add' did not contain a loop with signature matching types (dtype('<U11'), dtype('<U11')) -> None"
     ]
    }
   ],
   "source": [
    "# if a one element in the numpy array is string so all of the numeric values is also converted into String  \n",
    "a=np.array([1,2,3,4,\"ali\"])\n",
    "b=np.array([1,2,3,4,\"ali\"])\n",
    "print(a+b)"
   ]
  },
  {
   "cell_type": "code",
   "execution_count": null,
   "id": "c65c3d06-05c6-4412-aa8e-d4200c832160",
   "metadata": {},
   "outputs": [],
   "source": []
  },
  {
   "cell_type": "code",
   "execution_count": 5,
   "id": "815df26a-10b0-4c4d-a5c7-faf0f8c27b6a",
   "metadata": {},
   "outputs": [
    {
     "name": "stdout",
     "output_type": "stream",
     "text": [
      "[ 60 120 180]\n"
     ]
    }
   ],
   "source": [
    "a=np.array([10,20,30])\n",
    "b=np.array([10,20,30])\n",
    "print((a+b)*3)"
   ]
  },
  {
   "cell_type": "code",
   "execution_count": 13,
   "id": "ea1ff8b7-7d8b-486e-8e05-a58c4fa03c64",
   "metadata": {},
   "outputs": [
    {
     "name": "stdout",
     "output_type": "stream",
     "text": [
      "[[20 30]\n",
      " [40 60]]\n",
      "<class 'numpy.ndarray'>\n"
     ]
    }
   ],
   "source": [
    "# in this numpy array if we made the nested array so the element count must be same that is 2 or 2 in bottom example \n",
    "list1=np.array([[20,30],[40,60]])  #in this we created a marix consist of two values\n",
    "print(list1)\n",
    "print(type(list1))\n"
   ]
  },
  {
   "cell_type": "code",
   "execution_count": 15,
   "id": "d8bfc9b2-b799-4404-bfc7-5bbb027f3d80",
   "metadata": {},
   "outputs": [
    {
     "name": "stdout",
     "output_type": "stream",
     "text": [
      "[2 3 4]\n",
      "[1 2 3 4]\n",
      "[]\n",
      "[4 5 6 7 8]\n",
      "[8 9]\n"
     ]
    }
   ],
   "source": [
    "arr=np.array([1,2,3,4,5,6,7,8,9])\n",
    "print(arr[1:4]) # output [2,3,4]\n",
    "print(arr[:4]) # output [1,2,3,4]\n",
    "print(arr[5:1]) # output []\n",
    "print(arr[3:-1]) # output [2,3,4]\n",
    "print(arr[7:]) # output [2,3,4]"
   ]
  },
  {
   "cell_type": "code",
   "execution_count": 32,
   "id": "b5549cb0-ea13-481f-a947-ad9fb37a8b9b",
   "metadata": {},
   "outputs": [
    {
     "name": "stdout",
     "output_type": "stream",
     "text": [
      "[[4 6 8]\n",
      " [3 5 7]]\n",
      "5\n",
      "[1 3]\n",
      "[['2' '4' '6' '8' '10']\n",
      " ['1' '3' '5' '7' '9']]\n"
     ]
    }
   ],
   "source": [
    "# multiple matrixes examples\n",
    "arrs=np.array([[2,4,6,8,10],[1,3,5,7,9]])\n",
    "print(arrs[0:3,1:4])\n",
    "# short form for silicing\n",
    "print(arrs[1,2])# this is short method for that kai 1 indicate index value and the number 2 is indicate only value i  want is the second value of secnd matrix that is 5\n",
    "print(arrs[1,0:2])\n",
    "print(arrs.astype(str)) # convert the numeric array into String"
   ]
  },
  {
   "cell_type": "code",
   "execution_count": 31,
   "id": "14899534-29a0-4838-8d7a-52c83d1b3729",
   "metadata": {},
   "outputs": [
    {
     "name": "stdout",
     "output_type": "stream",
     "text": [
      "(2, 5)\n",
      "10\n",
      "2\n",
      "int32\n"
     ]
    }
   ],
   "source": [
    "print(np.shape(arrs)) # shape function determine the rows and columns of arrays output(2,5) that is row is 2 and column is 5\n",
    "print(np.size(arrs)) #means the total numbers of columns that is 10\n",
    "print(np.ndim(arrs)) # means how many dimesnion is in array that is 2\n",
    "print(arrs.dtype) # it describe the datadtype of element store in arrays of numpy"
   ]
  },
  {
   "cell_type": "code",
   "execution_count": 38,
   "id": "7e992e30-0764-4ac1-852e-fa1dd4b0e9cc",
   "metadata": {},
   "outputs": [
    {
     "name": "stdout",
     "output_type": "stream",
     "text": [
      "[ 7  9 11 13 15]\n",
      "[-5 -5 -5 -5 -5]\n",
      "[ 6 14 24 36 50]\n",
      "[6.         3.5        2.66666667 2.25       2.        ]\n",
      "[      1     128    6561  262144 9765625]\n",
      "[1.         1.41421356 1.73205081 2.         2.23606798]\n"
     ]
    }
   ],
   "source": [
    "arr1=np.array([1,2,3,4,5])\n",
    "arr2=np.array([6,7,8,9,10])\n",
    "print(np.add(arr1,arr2)) # addition operator is work to add two values\n",
    "print(np.subtract(arr1,arr2)) # subtract operator is used to subtract two numbers\n",
    "print(np.multiply(arr1,arr2))\n",
    "print(np.divide(arr2,arr1))\n",
    "print(np.power(arr1,arr2))\n",
    "print(np.sqrt(arr1))"
   ]
  },
  {
   "cell_type": "code",
   "execution_count": 47,
   "id": "26bee7e4-8a11-4d55-9640-00fd9bfacb94",
   "metadata": {},
   "outputs": [
    {
     "name": "stdout",
     "output_type": "stream",
     "text": [
      "[ 1  2  3  4  5  6  7  8  9 10]\n"
     ]
    }
   ],
   "source": [
    "# in order to contencatenate two values in numpy then we used this \n",
    "arr1=np.array([1,2,3,4,5])\n",
    "arr2=np.array([6,7,8,9,10])\n",
    "print(np.concatenate([arr1,arr2]))"
   ]
  },
  {
   "cell_type": "code",
   "execution_count": null,
   "id": "dc392097-c446-4ef5-afd1-b48eb96766bc",
   "metadata": {},
   "outputs": [],
   "source": [
    "arr3=np.array([[1,2,3],[4,5,6]])\n",
    "arr4=np.array([[7,8,9],[10,11,12]])\n",
    "\n",
    "print(np.concatenate([arr3,arr4],axis=1)) # in this exaple the arr3 get the axis of "
   ]
  },
  {
   "cell_type": "code",
   "execution_count": 2,
   "id": "b22347f7-075c-4b2f-9a3e-ee47033def1b",
   "metadata": {},
   "outputs": [
    {
     "name": "stdout",
     "output_type": "stream",
     "text": [
      "[array([2, 4, 5, 6]), array([7, 8, 3, 3]), array([2, 9, 3])]\n"
     ]
    }
   ],
   "source": [
    "import numpy as np\n",
    "a=np.array([2,4,5,6,7,8,3,3,2,9,3])\n",
    "print(np.array_split(a,3))"
   ]
  },
  {
   "cell_type": "code",
   "execution_count": 6,
   "id": "38b98df0-a1fd-43f8-8299-6b690ab2a7ea",
   "metadata": {},
   "outputs": [
    {
     "name": "stdout",
     "output_type": "stream",
     "text": [
      "[7 8 3 3]\n"
     ]
    }
   ],
   "source": [
    "import numpy as np\n",
    "a=np.array([2,4,5,6,7,8,3,3,2,9,3])\n",
    "b=np.array_split(a,3) # it is used to break arrays into two parts\n",
    "print(b[1])"
   ]
  },
  {
   "cell_type": "code",
   "execution_count": 16,
   "id": "501affab-819b-46ad-a995-07eecf8440ef",
   "metadata": {},
   "outputs": [
    {
     "name": "stdout",
     "output_type": "stream",
     "text": [
      "[ 20  40  50  60  70  80  90 100]\n",
      "[20 99 40 50 60]\n",
      "[20 50 60]\n"
     ]
    }
   ],
   "source": [
    "c=np.array([[20,40],[50,60]])\n",
    "print(np.append(c,[[70,80],[90,100]]))\n",
    "print(np.insert(c,1,99))#array,index,value\n",
    "print(np.delete(c,1))"
   ]
  },
  {
   "cell_type": "code",
   "execution_count": 20,
   "id": "0f7f3831-ce5f-4620-8476-4f101bac4d40",
   "metadata": {},
   "outputs": [
    {
     "name": "stdout",
     "output_type": "stream",
     "text": [
      "[[1 3 4 5 6 8 9]\n",
      " [0 1 2 3 5 6 7]]\n",
      "(array([], dtype=int64),)\n"
     ]
    },
    {
     "name": "stderr",
     "output_type": "stream",
     "text": [
      "C:\\Users\\PMLS\\AppData\\Local\\Temp\\ipykernel_16020\\1147126021.py:7: DeprecationWarning: Calling nonzero on 0d arrays is deprecated, as it behaves surprisingly. Use `atleast_1d(cond).nonzero()` if the old behavior was intended. If the context of this warning is of the form `arr[nonzero(cond)]`, just use `arr[cond]`.\n",
      "  search=np.where(arrays == 5)\n"
     ]
    }
   ],
   "source": [
    "# here we can discuss about the filter,sort and search\n",
    "import numpy as np\n",
    "arrs=np.array([[5,6,4,3,8,1,9],[6,7,5,1,0,2,3]])\n",
    "print(np.sort(arrs))\n",
    "#search\n",
    "arrays=[1,3,4,5]\n",
    "search=np.where(arrays == 5)\n",
    "print(search)"
   ]
  },
  {
   "cell_type": "code",
   "execution_count": 22,
   "id": "df7afa3b-e7dc-4c95-9f77-c1877d10bc93",
   "metadata": {},
   "outputs": [
    {
     "name": "stdout",
     "output_type": "stream",
     "text": [
      "[40 50]\n"
     ]
    }
   ],
   "source": [
    "#here we discuss about filter\n",
    "ar=np.array([20,30,40,50])\n",
    "# fa=[True,False,True,False]\n",
    "# new=ar[fa]\n",
    "# print(new)\n",
    "fa=ar>35\n",
    "new=ar[fa]\n",
    "print(new)"
   ]
  },
  {
   "cell_type": "code",
   "execution_count": null,
   "id": "a0f095ff-dc16-4695-aaab-d75c829a288d",
   "metadata": {},
   "outputs": [],
   "source": []
  }
 ],
 "metadata": {
  "kernelspec": {
   "display_name": "Python 3 (ipykernel)",
   "language": "python",
   "name": "python3"
  },
  "language_info": {
   "codemirror_mode": {
    "name": "ipython",
    "version": 3
   },
   "file_extension": ".py",
   "mimetype": "text/x-python",
   "name": "python",
   "nbconvert_exporter": "python",
   "pygments_lexer": "ipython3",
   "version": "3.12.7"
  }
 },
 "nbformat": 4,
 "nbformat_minor": 5
}
